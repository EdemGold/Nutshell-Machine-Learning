{
 "cells": [
  {
   "cell_type": "markdown",
   "id": "e6daf8f0",
   "metadata": {},
   "source": [
    "# Confusion Matrix"
   ]
  },
  {
   "cell_type": "markdown",
   "id": "129f7049",
   "metadata": {},
   "source": [
    "A confusion Matrix is the easiest way to measute the performance of a classifier."
   ]
  },
  {
   "cell_type": "markdown",
   "id": "e6e34f34",
   "metadata": {},
   "source": [
    "A confusion Matrix is basically a table with two dimensions named ACTUAL and PREDICTED. Both the dimensions have TRUE POSITIVES (TP), TRUE NEGATIVES(TN), FALSE POSITIVES (FP) and FASLE NEGATIVES(FN)"
   ]
  },
  {
   "cell_type": "markdown",
   "id": "05501e1b",
   "metadata": {},
   "source": [
    "TRUE POSITIVES (TP)are those predictions which the model termed as true  and are true when compared to the label placed on the data. "
   ]
  },
  {
   "cell_type": "markdown",
   "id": "21c37440",
   "metadata": {},
   "source": [
    "TRUE NEGATIVES (TN) are those predictions which the model termed as false and are false when compared to the label placed on the data."
   ]
  },
  {
   "cell_type": "markdown",
   "id": "24b167cd",
   "metadata": {},
   "source": [
    "FALSE POSITIVES(FP) are those predictions which are termed true by a model but aren't so when compared to the label placed on the data."
   ]
  },
  {
   "cell_type": "markdown",
   "id": "553be097",
   "metadata": {},
   "source": [
    "FALSE NEGATIVES (FN) are those predictions which the model termed as false but are true when compared to the label placed on the data."
   ]
  },
  {
   "cell_type": "markdown",
   "id": "15075e13",
   "metadata": {},
   "source": [
    "#### It should be noted thata the confusion matrix is the basis of all other performance metrics and isn't in itself termed as a performance metric"
   ]
  },
  {
   "cell_type": "markdown",
   "id": "89fd70b0",
   "metadata": {},
   "source": [
    "## Implementing Confusion Matrix"
   ]
  },
  {
   "cell_type": "code",
   "execution_count": 2,
   "id": "03139b89",
   "metadata": {},
   "outputs": [],
   "source": [
    "from sklearn.datasets import load_breast_cancer\n",
    "\n",
    "from sklearn.linear_model import LogisticRegression\n",
    "\n",
    "from sklearn.model_selection import train_test_split\n"
   ]
  },
  {
   "cell_type": "code",
   "execution_count": 3,
   "id": "0e7de8e7",
   "metadata": {},
   "outputs": [],
   "source": [
    "#get the data\n",
    "data = load_breast_cancer()\n",
    "\n",
    "x = data.data\n",
    "\n",
    "y = data.target\n",
    "\n",
    "#split the data\n",
    "x_train, x_test, y_train, y_test = train_test_split(x, y)"
   ]
  },
  {
   "cell_type": "code",
   "execution_count": 5,
   "id": "db0818da",
   "metadata": {},
   "outputs": [
    {
     "data": {
      "text/plain": [
       "LogisticRegression(max_iter=3000)"
      ]
     },
     "execution_count": 5,
     "metadata": {},
     "output_type": "execute_result"
    }
   ],
   "source": [
    "model = LogisticRegression(max_iter=3000)\n",
    "\n",
    "model.fit(x_train, y_train)\n",
    "\n"
   ]
  },
  {
   "cell_type": "code",
   "execution_count": 6,
   "id": "79fae48f",
   "metadata": {},
   "outputs": [
    {
     "name": "stdout",
     "output_type": "stream",
     "text": [
      "[1 1 1 0 1 1 0 1 1 1 0 1 1 1 0 1 1 1 0 0 1 0 1 0 0 0 1 1 0 1 0 0 0 1 1 0 1\n",
      " 1 0 0 0 1 1 1 0 1 1 0 1 1 1 0 1 0 0 1 0 0 0 0 0 0 1 1 0 1 0 0 1 1 1 1 0 0\n",
      " 1 1 0 1 0 1 1 0 1 1 1 1 1 0 1 1 0 1 0 1 0 0 1 1 1 1 1 0 1 1 1 1 1 0 1 1 1\n",
      " 1 1 1 0 1 1 1 1 1 0 0 0 0 1 1 1 0 1 1 1 1 1 1 1 1 1 1 1 1 1 0 1]\n"
     ]
    }
   ],
   "source": [
    "prediction = model.predict(x_test)\n",
    "print(prediction)"
   ]
  },
  {
   "cell_type": "code",
   "execution_count": 8,
   "id": "e8452ca0",
   "metadata": {},
   "outputs": [
    {
     "name": "stdout",
     "output_type": "stream",
     "text": [
      "Our models Confusion Matrix is:\n",
      "[[50  1]\n",
      " [ 3 89]]\n"
     ]
    }
   ],
   "source": [
    "#import confusion matrix\n",
    "from sklearn.metrics import confusion_matrix\n",
    "\n",
    "#getting our models \n",
    "confusionMatrix = confusion_matrix(prediction, y_test)\n",
    "\n",
    "print('Our models Confusion Matrix is:')\n",
    "print(confusionMatrix)"
   ]
  },
  {
   "cell_type": "code",
   "execution_count": null,
   "id": "1a808a41",
   "metadata": {},
   "outputs": [],
   "source": []
  }
 ],
 "metadata": {
  "kernelspec": {
   "display_name": "Python 3",
   "language": "python",
   "name": "python3"
  },
  "language_info": {
   "codemirror_mode": {
    "name": "ipython",
    "version": 3
   },
   "file_extension": ".py",
   "mimetype": "text/x-python",
   "name": "python",
   "nbconvert_exporter": "python",
   "pygments_lexer": "ipython3",
   "version": "3.8.8"
  }
 },
 "nbformat": 4,
 "nbformat_minor": 5
}
