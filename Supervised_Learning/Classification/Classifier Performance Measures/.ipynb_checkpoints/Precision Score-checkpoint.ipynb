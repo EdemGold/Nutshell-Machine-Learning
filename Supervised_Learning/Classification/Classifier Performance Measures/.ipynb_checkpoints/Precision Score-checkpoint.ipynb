{
 "cells": [
  {
   "cell_type": "markdown",
   "id": "704038e7",
   "metadata": {},
   "source": [
    "# Precision"
   ]
  },
  {
   "cell_type": "markdown",
   "id": "a3c700e5",
   "metadata": {},
   "source": [
    "Precision is simply defined as the number of true positives divided by the number of true positives plus the number of false positives."
   ]
  },
  {
   "cell_type": "markdown",
   "id": "922c07ab",
   "metadata": {},
   "source": [
    "False positives are cases the model incorrectly labels as positive that are actually negative, "
   ]
  },
  {
   "cell_type": "markdown",
   "id": "787480ae",
   "metadata": {},
   "source": [
    "# Implementation of Precision"
   ]
  },
  {
   "cell_type": "code",
   "execution_count": 1,
   "id": "09bb32a6",
   "metadata": {},
   "outputs": [],
   "source": [
    "from sklearn.datasets import load_breast_cancer\n",
    "\n",
    "from sklearn.linear_model import LogisticRegression\n",
    "\n",
    "from sklearn.model_selection import train_test_split\n"
   ]
  },
  {
   "cell_type": "code",
   "execution_count": 2,
   "id": "6046cfe5",
   "metadata": {},
   "outputs": [],
   "source": [
    "#get the data\n",
    "data = load_breast_cancer()\n",
    "\n",
    "x = data.data\n",
    "\n",
    "y = data.target\n",
    "\n",
    "#split the data\n",
    "x_train, x_test, y_train, y_test = train_test_split(x, y)"
   ]
  },
  {
   "cell_type": "code",
   "execution_count": 4,
   "id": "18d03a2f",
   "metadata": {},
   "outputs": [
    {
     "data": {
      "text/plain": [
       "LogisticRegression(max_iter=3000)"
      ]
     },
     "execution_count": 4,
     "metadata": {},
     "output_type": "execute_result"
    }
   ],
   "source": [
    "model = LogisticRegression(max_iter=3000)\n",
    "\n",
    "model.fit(x_train, y_train)\n"
   ]
  },
  {
   "cell_type": "code",
   "execution_count": 5,
   "id": "fdf0014d",
   "metadata": {},
   "outputs": [
    {
     "name": "stdout",
     "output_type": "stream",
     "text": [
      "[0 0 1 1 1 0 0 1 1 1 1 1 1 0 0 1 1 0 0 1 1 0 1 1 0 1 0 1 1 1 1 1 1 1 1 1 1\n",
      " 0 1 1 0 1 1 1 0 1 0 1 0 1 0 1 1 1 1 0 1 1 1 0 1 1 0 0 0 1 1 0 1 1 1 1 1 1\n",
      " 0 1 1 1 1 1 0 1 1 1 0 0 1 0 1 0 1 0 0 0 1 1 1 1 1 1 1 0 1 0 0 1 1 0 1 1 1\n",
      " 1 0 1 0 1 1 0 0 1 1 0 1 0 1 0 0 0 1 0 1 1 0 1 1 1 1 0 1 0 1 0 1]\n"
     ]
    }
   ],
   "source": [
    "prediction = model.predict(x_test)\n",
    "print(prediction)"
   ]
  },
  {
   "cell_type": "code",
   "execution_count": 6,
   "id": "04974d5e",
   "metadata": {},
   "outputs": [
    {
     "name": "stdout",
     "output_type": "stream",
     "text": [
      "The Model's Precision score is:\n",
      "0.967391304347826\n"
     ]
    }
   ],
   "source": [
    "#importing precision\n",
    "from sklearn.metrics import precision_score\n",
    "\n",
    "#getting our precision\n",
    "precision = precision_score(prediction, y_test)\n",
    "\n",
    "print(\"The Model's Precision score is:\")\n",
    "\n",
    "print(precision)"
   ]
  },
  {
   "cell_type": "code",
   "execution_count": null,
   "id": "e9ff8075",
   "metadata": {},
   "outputs": [],
   "source": []
  }
 ],
 "metadata": {
  "kernelspec": {
   "display_name": "Python 3",
   "language": "python",
   "name": "python3"
  },
  "language_info": {
   "codemirror_mode": {
    "name": "ipython",
    "version": 3
   },
   "file_extension": ".py",
   "mimetype": "text/x-python",
   "name": "python",
   "nbconvert_exporter": "python",
   "pygments_lexer": "ipython3",
   "version": "3.8.8"
  }
 },
 "nbformat": 4,
 "nbformat_minor": 5
}
