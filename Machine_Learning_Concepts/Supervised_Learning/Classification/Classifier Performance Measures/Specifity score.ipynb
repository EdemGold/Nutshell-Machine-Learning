{
 "cells": [
  {
   "cell_type": "markdown",
   "id": "cb417539",
   "metadata": {},
   "source": [
    "# Specifity Score"
   ]
  },
  {
   "cell_type": "markdown",
   "id": "5cfb7e8f",
   "metadata": {},
   "source": [
    "Specifity is defined as the total number of True Negatives over the total number of True Negatives and False Positives"
   ]
  },
  {
   "cell_type": "markdown",
   "id": "2ea95300",
   "metadata": {},
   "source": [
    "It is simply the number of results the model termed false which when compared to the labelled data are actually false"
   ]
  },
  {
   "cell_type": "markdown",
   "id": "850662ca",
   "metadata": {},
   "source": [
    "In essence specifity is the opposite of recall/sensitivity"
   ]
  },
  {
   "cell_type": "markdown",
   "id": "c2f30cf1",
   "metadata": {},
   "source": [
    "## Implementation of Specifity"
   ]
  },
  {
   "cell_type": "code",
   "execution_count": 1,
   "id": "c7eb7b68",
   "metadata": {},
   "outputs": [],
   "source": [
    "from sklearn.datasets import load_breast_cancer\n",
    "\n",
    "from sklearn.linear_model import LogisticRegression\n",
    "\n",
    "from sklearn.model_selection import train_test_split\n"
   ]
  },
  {
   "cell_type": "code",
   "execution_count": 2,
   "id": "6f03f7e3",
   "metadata": {},
   "outputs": [],
   "source": [
    "#get the data\n",
    "data = load_breast_cancer()\n",
    "\n",
    "x = data.data\n",
    "\n",
    "y = data.target\n",
    "\n",
    "#split the data\n",
    "x_train, x_test, y_train, y_test = train_test_split(x, y)"
   ]
  },
  {
   "cell_type": "code",
   "execution_count": 4,
   "id": "e3b365a3",
   "metadata": {},
   "outputs": [
    {
     "data": {
      "text/plain": [
       "LogisticRegression(max_iter=3000)"
      ]
     },
     "execution_count": 4,
     "metadata": {},
     "output_type": "execute_result"
    }
   ],
   "source": [
    "model = LogisticRegression(max_iter=3000)\n",
    "\n",
    "model.fit(x_train, y_train)\n"
   ]
  },
  {
   "cell_type": "code",
   "execution_count": 5,
   "id": "7c469468",
   "metadata": {},
   "outputs": [
    {
     "name": "stdout",
     "output_type": "stream",
     "text": [
      "[1 1 1 1 1 0 1 1 0 0 1 0 1 0 1 0 1 0 1 1 0 1 1 0 0 0 1 1 0 1 0 0 0 1 1 1 1\n",
      " 0 1 1 1 0 0 1 0 0 1 0 0 1 0 0 1 1 0 1 0 1 0 1 1 1 0 1 1 1 0 0 1 1 1 1 0 0\n",
      " 0 1 0 0 0 1 1 1 1 1 1 0 1 1 0 1 1 1 1 0 1 1 0 1 0 0 1 1 0 1 1 1 1 1 0 0 1\n",
      " 0 1 1 0 0 1 0 1 0 1 1 0 1 0 0 0 1 1 1 0 0 1 0 1 1 1 1 1 1 1 1 0]\n"
     ]
    }
   ],
   "source": [
    "prediction = model.predict(x_test)\n",
    "print(prediction)"
   ]
  },
  {
   "cell_type": "markdown",
   "id": "f4c1d88e",
   "metadata": {},
   "source": [
    "#### Unfortunately, sklearn does not have a custom specifity score function so we have to build ours using the confuion matrix"
   ]
  },
  {
   "cell_type": "code",
   "execution_count": 10,
   "id": "cec38f41",
   "metadata": {},
   "outputs": [
    {
     "name": "stdout",
     "output_type": "stream",
     "text": [
      "Our models specifity is:\n",
      "0.9482758620689655\n"
     ]
    }
   ],
   "source": [
    "#to know more about the confusion matrix visit the confusion matrix folder\n",
    "from sklearn.metrics import confusion_matrix\n",
    "\n",
    "tn, fp, fn, tp = confusion_matrix(prediction, y_test).ravel()\n",
    "#the ravel at the end is simplybused to unravel and scatter the matrix intoit's component variables which are tn, tp, fp and fn\n",
    "\n",
    "#as we stated earlier specifity is simply the true negatives (tn) over the true negatives(tn) and the false positives(fp)\n",
    "\n",
    "specifity = tn / (tn+fp)\n",
    "\n",
    "print(\"Our models specifity is:\")\n",
    "print(specifity)"
   ]
  },
  {
   "cell_type": "code",
   "execution_count": null,
   "id": "7f8d0af5",
   "metadata": {},
   "outputs": [],
   "source": []
  }
 ],
 "metadata": {
  "kernelspec": {
   "display_name": "Python 3",
   "language": "python",
   "name": "python3"
  },
  "language_info": {
   "codemirror_mode": {
    "name": "ipython",
    "version": 3
   },
   "file_extension": ".py",
   "mimetype": "text/x-python",
   "name": "python",
   "nbconvert_exporter": "python",
   "pygments_lexer": "ipython3",
   "version": "3.8.8"
  }
 },
 "nbformat": 4,
 "nbformat_minor": 5
}
