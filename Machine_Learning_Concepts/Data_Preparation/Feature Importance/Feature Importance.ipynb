{
 "cells": [
  {
   "cell_type": "markdown",
   "id": "98465fb6",
   "metadata": {},
   "source": [
    "# Calculating Feature IMportance"
   ]
  },
  {
   "cell_type": "markdown",
   "id": "c64b6ee1",
   "metadata": {},
   "source": [
    "Feature Importance Calculation is simply the act of finding the features which best impact prediction"
   ]
  },
  {
   "cell_type": "markdown",
   "id": "e647eb31",
   "metadata": {},
   "source": [
    "In other words it is simply the act of chosing the best features when making predictions"
   ]
  },
  {
   "cell_type": "markdown",
   "id": "2c31cf74",
   "metadata": {},
   "source": [
    "## Data"
   ]
  },
  {
   "cell_type": "markdown",
   "id": "9cab2eee",
   "metadata": {},
   "source": [
    "We are going to be making use of sklearns inbuilt make_classification and make_regression functions to create a test binary dataset "
   ]
  },
  {
   "cell_type": "code",
   "execution_count": 1,
   "id": "346f178e",
   "metadata": {},
   "outputs": [],
   "source": [
    "#most of the code here was gotten from the machinelearningmastery.com website"
   ]
  },
  {
   "cell_type": "code",
   "execution_count": 2,
   "id": "cc828915",
   "metadata": {},
   "outputs": [
    {
     "name": "stdout",
     "output_type": "stream",
     "text": [
      "(1000, 10) (1000,)\n"
     ]
    }
   ],
   "source": [
    "#test classification dataset\n",
    "from sklearn.datasets import make_classification\n",
    "# define the datasets \n",
    "x_classification, y_classification = make_classification(n_samples=1000, n_features=10, n_informative=5, n_redundant=5, random_state=1)\n",
    "#daatset summary\n",
    "print(x_classification.shape, y_classification.shape)"
   ]
  },
  {
   "cell_type": "code",
   "execution_count": 3,
   "id": "ea46d98f",
   "metadata": {},
   "outputs": [
    {
     "name": "stdout",
     "output_type": "stream",
     "text": [
      "(1000, 10) (1000,)\n"
     ]
    }
   ],
   "source": [
    "#test regression dataset \n",
    "from sklearn.datasets import make_regression\n",
    "#define dataset\n",
    "x_regression, y_regression = make_regression(n_samples=1000, n_features=10, n_informative=5, random_state=1)\n",
    "#summariz dataset\n",
    "print(x_regression.shape, y_regression.shape)"
   ]
  },
  {
   "cell_type": "markdown",
   "id": "b17457ad",
   "metadata": {},
   "source": [
    "## Feature Importance for Classification using Decision Trees"
   ]
  },
  {
   "cell_type": "code",
   "execution_count": 4,
   "id": "664faa5e",
   "metadata": {},
   "outputs": [
    {
     "name": "stdout",
     "output_type": "stream",
     "text": [
      "Feature, Score:\n",
      "0 0.010294926371142406\n",
      "Feature, Score:\n",
      "1 0.017163793759265807\n",
      "Feature, Score:\n",
      "2 0.18379883245792009\n",
      "Feature, Score:\n",
      "3 0.30471170057466\n",
      "Feature, Score:\n",
      "4 0.09091102040107052\n",
      "Feature, Score:\n",
      "5 0.009464553987248206\n",
      "Feature, Score:\n",
      "6 0.16255530978093352\n",
      "Feature, Score:\n",
      "7 0.052365402640555746\n",
      "Feature, Score:\n",
      "8 0.13048814346421767\n",
      "Feature, Score:\n",
      "9 0.038246316562986216\n"
     ]
    },
    {
     "data": {
      "image/png": "[encoded data removed]",
      "text/plain": [
       "<Figure size 432x288 with 1 Axes>"
      ]
     },
     "metadata": {
      "needs_background": "light"
     },
     "output_type": "display_data"
    }
   ],
   "source": [
    "#important feature in classification datastet using DecisionTreeClassifier\n",
    "%matplotlib inline\n",
    "import matplotlib.pyplot as mp\n",
    "from sklearn.tree import DecisionTreeClassifier\n",
    "#instatiate the mode\n",
    "model=DecisionTreeClassifier()\n",
    "#fit the model\n",
    "model.fit(x_classification, y_classification)\n",
    "#getting the feature importance\n",
    "feature_importance=model.feature_importances_\n",
    "#summarizing feature importance\n",
    "for i,v in enumerate(feature_importance):\n",
    "    print(\"Feature, Score:\")\n",
    "    print(i,v)\n",
    "    \n",
    "#plotting feature importance\n",
    "mp.bar([x for x in range(len(feature_importance))], feature_importance)\n",
    "mp.show()"
   ]
  },
  {
   "cell_type": "markdown",
   "id": "90b82e72",
   "metadata": {},
   "source": [
    "## Feature Importance for Regression Using Decision Trees"
   ]
  },
  {
   "cell_type": "code",
   "execution_count": 5,
   "id": "b964472f",
   "metadata": {},
   "outputs": [
    {
     "name": "stdout",
     "output_type": "stream",
     "text": [
      "Feature, Score:\n",
      "0 0.0022403338545162886\n",
      "Feature, Score:\n",
      "1 0.004213192008871464\n",
      "Feature, Score:\n",
      "2 0.0020387381492792418\n",
      "Feature, Score:\n",
      "3 0.0013100961568547971\n",
      "Feature, Score:\n",
      "4 0.5174245438859226\n",
      "Feature, Score:\n",
      "5 0.43895352041299995\n",
      "Feature, Score:\n",
      "6 0.027387955020853113\n",
      "Feature, Score:\n",
      "7 0.002524488020888215\n",
      "Feature, Score:\n",
      "8 0.0029884686883708154\n",
      "Feature, Score:\n",
      "9 0.0009186638014434674\n"
     ]
    },
    {
     "data": {
      "image/png": "[encoded data removed]",
      "text/plain": [
       "<Figure size 432x288 with 1 Axes>"
      ]
     },
     "metadata": {
      "needs_background": "light"
     },
     "output_type": "display_data"
    }
   ],
   "source": [
    "from sklearn.tree import DecisionTreeRegressor \n",
    "#instatiate the mode\n",
    "model = DecisionTreeRegressor()\n",
    "#fit the model\n",
    "model.fit(x_regression, y_regression)\n",
    "#getting the feature importance\n",
    "feature_importance=model.feature_importances_\n",
    "#summarizing feature importance\n",
    "for i,v in enumerate(feature_importance):\n",
    "    print(\"Feature, Score:\")\n",
    "    print(i,v)\n",
    "    \n",
    "#plotting feature importance\n",
    "mp.bar([x for x in range(len(feature_importance))], feature_importance)\n",
    "mp.show()"
   ]
  },
  {
   "cell_type": "markdown",
   "id": "e36c6516",
   "metadata": {},
   "source": [
    "## Feature Importance for Classification using Linear Models"
   ]
  },
  {
   "cell_type": "code",
   "execution_count": 6,
   "id": "dfce60bc",
   "metadata": {},
   "outputs": [
    {
     "name": "stdout",
     "output_type": "stream",
     "text": [
      "Feature, Score:\n",
      "0 0.16319742265326456\n",
      "Feature, Score:\n",
      "1 -0.6430145358815719\n",
      "Feature, Score:\n",
      "2 0.4849664987788698\n",
      "Feature, Score:\n",
      "3 -0.4618952702935789\n",
      "Feature, Score:\n",
      "4 0.18431777079451464\n",
      "Feature, Score:\n",
      "5 -0.11978097696592985\n",
      "Feature, Score:\n",
      "6 -0.4060203991326981\n",
      "Feature, Score:\n",
      "7 0.037718813935295324\n",
      "Feature, Score:\n",
      "8 -0.5178542284781591\n",
      "Feature, Score:\n",
      "9 0.26539871295064876\n"
     ]
    },
    {
     "data": {
      "image/png": "[encoded data removed]",
      "text/plain": [
       "<Figure size 432x288 with 1 Axes>"
      ]
     },
     "metadata": {
      "needs_background": "light"
     },
     "output_type": "display_data"
    }
   ],
   "source": [
    "from sklearn.linear_model import LogisticRegression\n",
    "#instatiate the mode\n",
    "model=LogisticRegression()\n",
    "#fit the model\n",
    "model.fit(x_classification, y_classification)\n",
    "#getting the feature importance\n",
    "feature_importance=model.coef_[0]\n",
    "#summarizing feature importance\n",
    "for i,v in enumerate(feature_importance):\n",
    "    print(\"Feature, Score:\")\n",
    "    print(i,v)\n",
    "    \n",
    "#plotting feature importance\n",
    "mp.bar([x for x in range(len(feature_importance))], feature_importance)\n",
    "mp.show()"
   ]
  },
  {
   "cell_type": "markdown",
   "id": "2a72e3d9",
   "metadata": {},
   "source": [
    "## Feature Importance for Classification using Linear Models"
   ]
  },
  {
   "cell_type": "code",
   "execution_count": 7,
   "id": "3a487a4d",
   "metadata": {},
   "outputs": [
    {
     "name": "stdout",
     "output_type": "stream",
     "text": [
      "Feature, Score:\n",
      "0 -1.0433559234213723e-14\n",
      "Feature, Score:\n",
      "1 12.444827855389693\n",
      "Feature, Score:\n",
      "2 1.1102230246251565e-14\n",
      "Feature, Score:\n",
      "3 2.1316282072803006e-14\n",
      "Feature, Score:\n",
      "4 93.32225450776936\n",
      "Feature, Score:\n",
      "5 86.50810998606794\n",
      "Feature, Score:\n",
      "6 26.746066698034497\n",
      "Feature, Score:\n",
      "7 3.2853463982622007\n",
      "Feature, Score:\n",
      "8 4.929390229335695e-14\n",
      "Feature, Score:\n",
      "9 -1.2434497875801753e-14\n"
     ]
    },
    {
     "data": {
      "image/png": "[encoded data removed]",
      "text/plain": [
       "<Figure size 432x288 with 1 Axes>"
      ]
     },
     "metadata": {
      "needs_background": "light"
     },
     "output_type": "display_data"
    }
   ],
   "source": [
    "from sklearn.linear_model import LinearRegression\n",
    "#instatiate the mode\n",
    "model=LinearRegression()\n",
    "#fit the model\n",
    "model.fit(x_regression, y_regression)\n",
    "#getting the feature importance\n",
    "feature_importance=model.coef_\n",
    "#summarizing feature importance\n",
    "for i,v in enumerate(feature_importance):\n",
    "    print(\"Feature, Score:\")\n",
    "    print(i,v)\n",
    "    \n",
    "#plotting feature importance\n",
    "mp.bar([x for x in range(len(feature_importance))], feature_importance)\n",
    "mp.show()"
   ]
  },
  {
   "cell_type": "markdown",
   "id": "e69933db",
   "metadata": {},
   "source": [
    "## Feature Importance for Classification using RandomForests"
   ]
  },
  {
   "cell_type": "code",
   "execution_count": 8,
   "id": "c9232f36",
   "metadata": {},
   "outputs": [
    {
     "name": "stdout",
     "output_type": "stream",
     "text": [
      "Feature, Score:\n",
      "0 0.05864302041357854\n",
      "Feature, Score:\n",
      "1 0.1155122332110097\n",
      "Feature, Score:\n",
      "2 0.16188172717531452\n",
      "Feature, Score:\n",
      "3 0.17930122725633169\n",
      "Feature, Score:\n",
      "4 0.07647698411690076\n",
      "Feature, Score:\n",
      "5 0.1299256388500605\n",
      "Feature, Score:\n",
      "6 0.10738217385213905\n",
      "Feature, Score:\n",
      "7 0.04740772882178616\n",
      "Feature, Score:\n",
      "8 0.08035611721900449\n",
      "Feature, Score:\n",
      "9 0.04311314908387472\n"
     ]
    },
    {
     "data": {
      "image/png": "[encoded data removed]",
      "text/plain": [
       "<Figure size 432x288 with 1 Axes>"
      ]
     },
     "metadata": {
      "needs_background": "light"
     },
     "output_type": "display_data"
    }
   ],
   "source": [
    "from sklearn.ensemble import RandomForestClassifier\n",
    "#instatiate the model\n",
    "model=RandomForestClassifier()\n",
    "#fit the model\n",
    "model.fit(x_classification, y_classification)\n",
    "#getting the feature importance\n",
    "feature_importance=model.feature_importances_\n",
    "#summarizing feature importance\n",
    "for i,v in enumerate(feature_importance):\n",
    "    print(\"Feature, Score:\")\n",
    "    print(i,v)\n",
    "    \n",
    "#plotting feature importance\n",
    "mp.bar([x for x in range(len(feature_importance))], feature_importance)\n",
    "mp.show()"
   ]
  },
  {
   "cell_type": "markdown",
   "id": "124cf9b4",
   "metadata": {},
   "source": [
    "## Feature Selection for Regression using RandomForests"
   ]
  },
  {
   "cell_type": "code",
   "execution_count": 9,
   "id": "a844f5a8",
   "metadata": {},
   "outputs": [
    {
     "name": "stdout",
     "output_type": "stream",
     "text": [
      "Feature, Score:\n",
      "0 0.002869899673726541\n",
      "Feature, Score:\n",
      "1 0.005464375595617643\n",
      "Feature, Score:\n",
      "2 0.0030433448071623677\n",
      "Feature, Score:\n",
      "3 0.0025376038358601786\n",
      "Feature, Score:\n",
      "4 0.5308004445329441\n",
      "Feature, Score:\n",
      "5 0.4199115634980614\n",
      "Feature, Score:\n",
      "6 0.026453660788417228\n",
      "Feature, Score:\n",
      "7 0.003102933490968103\n",
      "Feature, Score:\n",
      "8 0.003016748912899673\n",
      "Feature, Score:\n",
      "9 0.0027994248643428642\n"
     ]
    },
    {
     "data": {
      "image/png": "[encoded data removed]",
      "text/plain": [
       "<Figure size 432x288 with 1 Axes>"
      ]
     },
     "metadata": {
      "needs_background": "light"
     },
     "output_type": "display_data"
    }
   ],
   "source": [
    "from sklearn.ensemble import RandomForestRegressor\n",
    "#instatiate the mode\n",
    "model=RandomForestRegressor()\n",
    "#fit the model\n",
    "model.fit(x_regression, y_regression)\n",
    "#getting the feature importance\n",
    "feature_importance=model.feature_importances_\n",
    "#summarizing feature importance\n",
    "for i,v in enumerate(feature_importance):\n",
    "    print(\"Feature, Score:\")\n",
    "    print(i,v)\n",
    "    \n",
    "#plotting feature importance\n",
    "mp.bar([x for x in range(len(feature_importance))], feature_importance)\n",
    "mp.show()"
   ]
  },
  {
   "cell_type": "markdown",
   "id": "9ba2a9d4",
   "metadata": {},
   "source": [
    "## Feature Importance for Classfication using XGBoost"
   ]
  },
  {
   "cell_type": "code",
   "execution_count": 15,
   "id": "af98f7d5",
   "metadata": {},
   "outputs": [
    {
     "name": "stdout",
     "output_type": "stream",
     "text": [
      "[18:23:01] WARNING: C:/Users/Administrator/workspace/xgboost-win64_release_1.4.0/src/learner.cc:1095: Starting in XGBoost 1.3.0, the default evaluation metric used with the objective 'binary:logistic' was changed from 'error' to 'logloss'. Explicitly set eval_metric if you'd like to restore the old behavior.\n",
      "Feature, Score:\n",
      "0 0.037234508\n",
      "Feature, Score:\n",
      "1 0.07725289\n",
      "Feature, Score:\n",
      "2 0.12537321\n",
      "Feature, Score:\n",
      "3 0.29665604\n",
      "Feature, Score:\n",
      "4 0.100987144\n",
      "Feature, Score:\n",
      "5 0.057057414\n",
      "Feature, Score:\n",
      "6 0.13027078\n",
      "Feature, Score:\n",
      "7 0.035372403\n",
      "Feature, Score:\n",
      "8 0.116942346\n",
      "Feature, Score:\n",
      "9 0.022853257\n"
     ]
    },
    {
     "data": {
      "image/png": "[encoded data removed]",
      "text/plain": [
       "<Figure size 432x288 with 1 Axes>"
      ]
     },
     "metadata": {
      "needs_background": "light"
     },
     "output_type": "display_data"
    }
   ],
   "source": [
    "from xgboost import XGBClassifier\n",
    "#instatiate the model\n",
    "model=XGBClassifier(use_label_encoder=False)\n",
    "#fit the model\n",
    "model.fit(x_classification, y_classification)\n",
    "#getting the feature importance\n",
    "feature_importance=model.feature_importances_\n",
    "#summarizing feature importance\n",
    "for i,v in enumerate(feature_importance):\n",
    "    print(\"Feature, Score:\")\n",
    "    print(i,v)\n",
    "    \n",
    "#plotting feature importance\n",
    "mp.bar([x for x in range(len(feature_importance))], feature_importance)\n",
    "mp.show()"
   ]
  },
  {
   "cell_type": "markdown",
   "id": "f7ddecb4",
   "metadata": {},
   "source": [
    "## Feature Importance for Classfication using XGBoost"
   ]
  },
  {
   "cell_type": "code",
   "execution_count": 16,
   "id": "2d2f89d9",
   "metadata": {},
   "outputs": [
    {
     "name": "stdout",
     "output_type": "stream",
     "text": [
      "Feature, Score:\n",
      "0 0.0003878335\n",
      "Feature, Score:\n",
      "1 0.0058324034\n",
      "Feature, Score:\n",
      "2 0.0011211814\n",
      "Feature, Score:\n",
      "3 0.0012948964\n",
      "Feature, Score:\n",
      "4 0.495024\n",
      "Feature, Score:\n",
      "5 0.4644336\n",
      "Feature, Score:\n",
      "6 0.029509572\n",
      "Feature, Score:\n",
      "7 0.00085885683\n",
      "Feature, Score:\n",
      "8 0.00074822875\n",
      "Feature, Score:\n",
      "9 0.0007893534\n"
     ]
    },
    {
     "data": {
      "image/png": "[encoded data removed]",
      "text/plain": [
       "<Figure size 432x288 with 1 Axes>"
      ]
     },
     "metadata": {
      "needs_background": "light"
     },
     "output_type": "display_data"
    }
   ],
   "source": [
    "from xgboost import XGBRegressor\n",
    "#instatiate the model\n",
    "model=XGBRegressor()\n",
    "#fit the model\n",
    "model.fit(x_regression, y_regression)\n",
    "#getting the feature importance\n",
    "feature_importance=model.feature_importances_\n",
    "#summarizing feature importance\n",
    "for i,v in enumerate(feature_importance):\n",
    "    print(\"Feature, Score:\")\n",
    "    print(i,v)\n",
    "    \n",
    "#plotting feature importance\n",
    "mp.bar([x for x in range(len(feature_importance))], feature_importance)\n",
    "mp.show()"
   ]
  },
  {
   "cell_type": "code",
   "execution_count": null,
   "id": "cbb2f42a",
   "metadata": {},
   "outputs": [],
   "source": []
  }
 ],
 "metadata": {
  "kernelspec": {
   "display_name": "Python 3",
   "language": "python",
   "name": "python3"
  },
  "language_info": {
   "codemirror_mode": {
    "name": "ipython",
    "version": 3
   },
   "file_extension": ".py",
   "mimetype": "text/x-python",
   "name": "python",
   "nbconvert_exporter": "python",
   "pygments_lexer": "ipython3",
   "version": "3.8.8"
  }
 },
 "nbformat": 4,
 "nbformat_minor": 5
}
