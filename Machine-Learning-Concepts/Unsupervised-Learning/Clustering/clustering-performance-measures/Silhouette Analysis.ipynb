{
 "cells": [
  {
   "cell_type": "markdown",
   "id": "608a486f",
   "metadata": {},
   "source": [
    "# Silhoutte Analysis"
   ]
  },
  {
   "cell_type": "markdown",
   "id": "c2aa1e6e",
   "metadata": {},
   "source": [
    "This is basically a way to analyse clusters by getting the distance between the clusters."
   ]
  },
  {
   "cell_type": "markdown",
   "id": "6df904e1",
   "metadata": {},
   "source": [
    "## Analysis of Silhoutte Score "
   ]
  },
  {
   "cell_type": "markdown",
   "id": "db742553",
   "metadata": {},
   "source": [
    "The silhoutte score has a range of [-1,1] "
   ]
  },
  {
   "cell_type": "markdown",
   "id": "786ebb7d",
   "metadata": {},
   "source": [
    "### Score of +1 "
   ]
  },
  {
   "cell_type": "markdown",
   "id": "e76f9775",
   "metadata": {},
   "source": [
    "This score indicates that the sample data is far away from the neighbouring cluster"
   ]
  },
  {
   "cell_type": "markdown",
   "id": "59187b47",
   "metadata": {},
   "source": [
    "### Score of 0 "
   ]
  },
  {
   "cell_type": "markdown",
   "id": "454bafe6",
   "metadata": {},
   "source": [
    "This indicates that the score is very close to the decision boundary of the clusters"
   ]
  },
  {
   "cell_type": "markdown",
   "id": "c07bcb52",
   "metadata": {},
   "source": [
    "### Score of -1 "
   ]
  },
  {
   "cell_type": "markdown",
   "id": "c10824ac",
   "metadata": {},
   "source": [
    "This inidicates that the samples have been assigned to the wrong clusters"
   ]
  },
  {
   "cell_type": "code",
   "execution_count": 4,
   "id": "34585843",
   "metadata": {},
   "outputs": [],
   "source": [
    "#import necessary packages\n",
    "import numpy as np\n",
    "from sklearn.cluster import KMeans\n",
    "%matplotlib inline\n",
    "import matplotlib.pyplot as plt\n",
    "import seaborn as sns; sns.set()"
   ]
  },
  {
   "cell_type": "markdown",
   "id": "aa432a83",
   "metadata": {},
   "source": [
    "## Data "
   ]
  },
  {
   "cell_type": "code",
   "execution_count": 7,
   "id": "0dd684ba",
   "metadata": {},
   "outputs": [],
   "source": [
    "#genrating dataset\n",
    "from sklearn.datasets._samples_generator import make_blobs\n",
    "x, y = make_blobs(n_samples=500, centers=4, cluster_std=0.40, random_state=0)"
   ]
  },
  {
   "cell_type": "code",
   "execution_count": 9,
   "id": "dfd475f8",
   "metadata": {},
   "outputs": [],
   "source": [
    "scores = []\n",
    "values = np.arange(2, 10)"
   ]
  },
  {
   "cell_type": "code",
   "execution_count": 13,
   "id": "f184faf7",
   "metadata": {},
   "outputs": [],
   "source": [
    "for num_clusters in values:\n",
    "    model=KMeans(init='k-means++', n_clusters=num_clusters, n_init=10)\n",
    "    model.fit(x)"
   ]
  },
  {
   "cell_type": "code",
   "execution_count": 14,
   "id": "ad2a1db1",
   "metadata": {},
   "outputs": [],
   "source": [
    "from sklearn.metrics import silhouette_score\n",
    "score=silhouette_score(x, model.labels_, metric='euclidean', sample_size=len(x))"
   ]
  },
  {
   "cell_type": "code",
   "execution_count": 16,
   "id": "fd110a1a",
   "metadata": {},
   "outputs": [
    {
     "name": "stdout",
     "output_type": "stream",
     "text": [
      "Number of Clusters= 9\n",
      "\n",
      "Silhoutte Score= 0.32928963205297546\n"
     ]
    }
   ],
   "source": [
    "print(\"Number of Clusters=\", num_clusters)\n",
    "print(\"\\nSilhoutte Score=\", score)\n",
    "scores.append(score)"
   ]
  },
  {
   "cell_type": "code",
   "execution_count": 17,
   "id": "841e6e8d",
   "metadata": {},
   "outputs": [
    {
     "name": "stdout",
     "output_type": "stream",
     "text": [
      "\n",
      "Optimal number of clusters= 9\n"
     ]
    }
   ],
   "source": [
    "#getting optimal number of clusters\n",
    "optimal_num_clusters = np.argmax(scores)+values[0]\n",
    "print(\"\\nOptimal number of clusters=\", num_clusters)"
   ]
  }
 ],
 "metadata": {
  "kernelspec": {
   "display_name": "Python 3",
   "language": "python",
   "name": "python3"
  },
  "language_info": {
   "codemirror_mode": {
    "name": "ipython",
    "version": 3
   },
   "file_extension": ".py",
   "mimetype": "text/x-python",
   "name": "python",
   "nbconvert_exporter": "python",
   "pygments_lexer": "ipython3",
   "version": "3.8.8"
  }
 },
 "nbformat": 4,
 "nbformat_minor": 5
}
