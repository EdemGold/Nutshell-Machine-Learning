{
 "cells": [
  {
   "cell_type": "markdown",
   "id": "03c2bb99",
   "metadata": {},
   "source": [
    "# Decision Tree Classifier"
   ]
  },
  {
   "cell_type": "markdown",
   "id": "cbfa4e18",
   "metadata": {},
   "source": [
    "A decision tree is a tree flow chart wheree each node splits a groupmof pbservations according to a feature variable"
   ]
  },
  {
   "cell_type": "markdown",
   "id": "8836aef7",
   "metadata": {},
   "source": [
    "## Data"
   ]
  },
  {
   "cell_type": "markdown",
   "id": "875370d6",
   "metadata": {},
   "source": [
    "We are going to build a simple classifier to diffrentiate between men and women using 2 features 'height and length of hair'"
   ]
  },
  {
   "cell_type": "markdown",
   "id": "6029b5bc",
   "metadata": {},
   "source": [
    "## Installation of dependant packages "
   ]
  },
  {
   "cell_type": "markdown",
   "id": "6b21d2f4",
   "metadata": {},
   "source": [
    "We have to install the pydotplus and graphviz packages in order to be able to visualize the flow chart of our model"
   ]
  },
  {
   "cell_type": "code",
   "execution_count": 20,
   "id": "38bab70d",
   "metadata": {},
   "outputs": [],
   "source": [
    "#importation of packages\n",
    "import pydotplus\n",
    "from sklearn import tree\n",
    "from sklearn.tree import DecisionTreeClassifier\n",
    "from sklearn.metrics import classification_report\n",
    "from sklearn.model_selection import train_test_split\n",
    "import collections"
   ]
  },
  {
   "cell_type": "markdown",
   "id": "9d17a608",
   "metadata": {},
   "source": [
    "## Dataset"
   ]
  },
  {
   "cell_type": "markdown",
   "id": "213ef8f4",
   "metadata": {},
   "source": [
    "We will create our own personal dataset"
   ]
  },
  {
   "cell_type": "code",
   "execution_count": 21,
   "id": "557a2895",
   "metadata": {},
   "outputs": [],
   "source": [
    "x = [[165, 19], [231,23], [143, 25], [456, 34], [256, 23], [150, 32], [443, 43], [123, 31], [543, 60], [543, 90], [170, 26]]\n",
    "\n",
    "y = ['man', 'woman', 'man', 'man', 'woman', 'woman', 'man', 'woman', 'man', 'woman', 'man']\n",
    "\n",
    "feature_names = ['height', 'length of hair']\n",
    "\n",
    "x_train, x_test, y_train, y_test = train_test_split(x, y, test_size=0.40, random_state=5)"
   ]
  },
  {
   "cell_type": "code",
   "execution_count": 22,
   "id": "a7183b77",
   "metadata": {},
   "outputs": [],
   "source": [
    "#time to instantiate and fit the model witht the data\n",
    "\n",
    "model = DecisionTreeClassifier()\n",
    "\n",
    "model = model.fit(x, y)"
   ]
  },
  {
   "cell_type": "code",
   "execution_count": 29,
   "id": "08824b5e",
   "metadata": {},
   "outputs": [
    {
     "name": "stdout",
     "output_type": "stream",
     "text": [
      "['woman']\n"
     ]
    }
   ],
   "source": [
    "#time to test our model on a new instance of the data\n",
    "prediction = model.predict([[133, 37]])\n",
    "print(prediction)"
   ]
  },
  {
   "cell_type": "code",
   "execution_count": null,
   "id": "c0b3e672",
   "metadata": {},
   "outputs": [],
   "source": []
  }
 ],
 "metadata": {
  "kernelspec": {
   "display_name": "Python 3",
   "language": "python",
   "name": "python3"
  },
  "language_info": {
   "codemirror_mode": {
    "name": "ipython",
    "version": 3
   },
   "file_extension": ".py",
   "mimetype": "text/x-python",
   "name": "python",
   "nbconvert_exporter": "python",
   "pygments_lexer": "ipython3",
   "version": "3.8.8"
  }
 },
 "nbformat": 4,
 "nbformat_minor": 5
}
