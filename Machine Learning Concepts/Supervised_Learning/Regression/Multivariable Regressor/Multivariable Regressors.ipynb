{
 "cells": [
  {
   "cell_type": "markdown",
   "id": "87086168",
   "metadata": {},
   "source": [
    "# Multivariable Regressors"
   ]
  },
  {
   "cell_type": "code",
   "execution_count": null,
   "id": "6570ab45",
   "metadata": {},
   "outputs": [],
   "source": [
    "#this explanation was gotten from the mygreatlearning.com website "
   ]
  },
  {
   "cell_type": "markdown",
   "id": "653cfcd6",
   "metadata": {},
   "source": [
    "Multivariate Regression is a supervised machine learning algorithm involving multiple data variables for analysis. A Multivariate regression is an extension of multiple regression with one dependent variable and multiple independent variables. Based on the number of independent variables, we try to predict the output."
   ]
  },
  {
   "cell_type": "code",
   "execution_count": 1,
   "id": "a85d537a",
   "metadata": {},
   "outputs": [],
   "source": [
    "#some part of the code gotten from an article on the sci-kit learn official website"
   ]
  },
  {
   "cell_type": "code",
   "execution_count": 2,
   "id": "7efde13e",
   "metadata": {},
   "outputs": [],
   "source": [
    "#import packages \n",
    "import numpy as np\n",
    "from sklearn.model_selection import train_test_split\n",
    "from sklearn.linear_model import LinearRegression\n",
    "from sklearn.datasets import load_diabetes\n",
    "import sklearn.metrics as metrics\n",
    "%matplotlib inline\n",
    "import matplotlib.pyplot as plt"
   ]
  },
  {
   "cell_type": "code",
   "execution_count": 3,
   "id": "eeac5eca",
   "metadata": {},
   "outputs": [],
   "source": [
    "x, y = load_diabetes(return_X_y = True)\n",
    "\n",
    "x = x[:, np.newaxis, 2]"
   ]
  },
  {
   "cell_type": "code",
   "execution_count": 4,
   "id": "dcb83804",
   "metadata": {},
   "outputs": [],
   "source": [
    "#split data\n",
    "\n",
    "x_train, x_test, y_train, y_test = train_test_split(x, y)"
   ]
  },
  {
   "cell_type": "code",
   "execution_count": 5,
   "id": "493fd414",
   "metadata": {},
   "outputs": [
    {
     "data": {
      "text/plain": [
       "LinearRegression()"
      ]
     },
     "execution_count": 5,
     "metadata": {},
     "output_type": "execute_result"
    }
   ],
   "source": [
    "model = LinearRegression()\n",
    "\n",
    "model.fit(x_train, y_train)"
   ]
  },
  {
   "cell_type": "code",
   "execution_count": 6,
   "id": "8ebba2b9",
   "metadata": {},
   "outputs": [
    {
     "name": "stdout",
     "output_type": "stream",
     "text": [
      "[143.87618588 168.17357151 226.70818233 128.41421322 132.83191969\n",
      " 107.43010745 137.24962617 248.79671471 122.89208012  88.65485492\n",
      " 266.46754062  84.23714845 210.14178304 168.17357151  67.67074916\n",
      " 195.78423699  96.38584126 129.51863983 179.2178377  149.39831898\n",
      " 128.41421322  89.75928154 106.32568083 154.92045208 179.2178377\n",
      " 215.66391614 123.99650674 160.44258517 114.05666717 201.30637009\n",
      " 110.74338731 141.66733265 150.5027456  111.84781393 223.39490247\n",
      " 224.49932909 119.57880026 117.36994702 121.7876535  137.24962617\n",
      " 140.56290603  61.04418944 172.59127799  88.65485492 318.37559173\n",
      " 141.66733265 125.10093336 130.62306645 135.04077293 149.39831898\n",
      " 140.56290603 169.27799813 170.38242475 188.05325065 177.00898446\n",
      " 144.9806125  156.0248787  207.9329298  101.90797435  94.17698802\n",
      "  96.38584126 159.33815855 206.82850318 128.41421322 270.8852471\n",
      " 154.92045208 116.2655204  106.32568083 206.82850318 184.7399708\n",
      " 100.80354773 194.67981037  87.5504283   79.81944197 110.74338731\n",
      " 209.03735642 148.29389236 215.66391614  94.17698802 182.53111756\n",
      " 111.84781393 127.3097866  241.06572838 222.29047585 196.88866361\n",
      " 189.15767727 128.41421322 213.4550629  226.70818233 165.96471827\n",
      " 120.68322688 165.96471827 169.27799813 154.92045208 151.60717222\n",
      "  62.14861606  96.38584126 194.67981037  95.28141464  69.8796024\n",
      " 148.29389236 191.36653051  91.96813478 220.08162261 141.66733265\n",
      " 233.33474204 285.24279315 147.18946574 121.7876535  132.83191969\n",
      "  86.44600168]\n"
     ]
    }
   ],
   "source": [
    "#predicting results\n",
    "prediction = model.predict(x_test)\n",
    "\n",
    "print(prediction)"
   ]
  },
  {
   "cell_type": "code",
   "execution_count": 7,
   "id": "219b8f0d",
   "metadata": {},
   "outputs": [
    {
     "data": {
      "image/png": "[encoded data removed]",
      "text/plain": [
       "<Figure size 432x288 with 1 Axes>"
      ]
     },
     "metadata": {},
     "output_type": "display_data"
    }
   ],
   "source": [
    "#now to plot and visualize the data\n",
    "plt.scatter(x_test, y_test, color='green')\n",
    "\n",
    "plt.plot(x_test, prediction, color = 'black', linewidth = 2)\n",
    "\n",
    "plt.xticks(())\n",
    "\n",
    "plt.yticks(())\n",
    "\n",
    "plt.show()"
   ]
  },
  {
   "cell_type": "code",
   "execution_count": 8,
   "id": "e2228fd1",
   "metadata": {},
   "outputs": [],
   "source": [
    "#performance of the model\n",
    "\n",
    "#mean absolute error\n",
    "mean_absolute_error = round(metrics.mean_absolute_error(y_test, prediction), 2)\n",
    "\n",
    "#median absolute error\n",
    "median_absolute_error = round(metrics.median_absolute_error(y_test, prediction), 2)\n",
    "\n",
    "#mean squared error\n",
    "mean_squared_error = round(metrics.mean_squared_error(y_test, prediction), 2)\n",
    "\n",
    "#explained variance score\n",
    "explained_variance_score = round(metrics.explained_variance_score(y_test, prediction), 2)\n",
    "\n",
    "#r2 score\n",
    "r2_score = round(metrics.r2_score(y_test, prediction), 2)"
   ]
  },
  {
   "cell_type": "code",
   "execution_count": 9,
   "id": "e26eaa62",
   "metadata": {},
   "outputs": [
    {
     "name": "stdout",
     "output_type": "stream",
     "text": [
      "Model Performance Measures\n",
      "\n",
      "\n",
      "Mean Absolute Error: 48.49\n",
      "Median Absolute Error: 40.15\n",
      "Mean Squared Error: 3535.69\n",
      "Explained Variance Score: 0.26\n",
      "R2 Score: 0.26\n"
     ]
    }
   ],
   "source": [
    "#output performnace measures\n",
    "\n",
    "print(\"Model Performance Measures\")\n",
    "print()\n",
    "print()\n",
    "print(\"Mean Absolute Error:\", mean_absolute_error)\n",
    "\n",
    "print(\"Median Absolute Error:\", median_absolute_error)\n",
    "\n",
    "print(\"Mean Squared Error:\", mean_squared_error)\n",
    "\n",
    "print(\"Explained Variance Score:\", explained_variance_score)\n",
    "\n",
    "print(\"R2 Score:\", r2_score)"
   ]
  },
  {
   "cell_type": "markdown",
   "id": "5d5e9f53",
   "metadata": {},
   "source": [
    "## Explanation of Performance Measures"
   ]
  },
  {
   "cell_type": "markdown",
   "id": "c02dfc3a",
   "metadata": {},
   "source": [
    "#### Mean Absolute Error:"
   ]
  },
  {
   "cell_type": "markdown",
   "id": "3c34748a",
   "metadata": {},
   "source": [
    "This is a model evaluation metric used with regression models. The mean absolute error of a model with respect to a test set is the mean of the absolute values of the individual prediction errors on over all instances in the test set."
   ]
  },
  {
   "cell_type": "markdown",
   "id": "a653d92a",
   "metadata": {},
   "source": [
    "#### Median Absolute Error"
   ]
  },
  {
   "cell_type": "markdown",
   "id": "b2df0920",
   "metadata": {},
   "source": [
    "To begin, Absolute errors refer to the magnitude of difference between the prediction of an observation and the true value of that observation. MAE takes the average of absolute errors for a group of predictions and observations as a measurement of the magnitude of errors for the entire group."
   ]
  },
  {
   "cell_type": "markdown",
   "id": "b71cf45d",
   "metadata": {},
   "source": [
    "#### Mean Squared Error"
   ]
  },
  {
   "cell_type": "markdown",
   "id": "c8266ff3",
   "metadata": {},
   "source": [
    "Mean squared errors measure the average squared difference between the estimated values and the actual value."
   ]
  },
  {
   "cell_type": "markdown",
   "id": "43efd648",
   "metadata": {},
   "source": [
    "#### Explained Variance Score"
   ]
  },
  {
   "cell_type": "markdown",
   "id": "01d6c0f7",
   "metadata": {},
   "source": [
    "Explained variance score is used to measure the discrepancy between a model's prediction and actual data provided."
   ]
  },
  {
   "cell_type": "markdown",
   "id": "f5888043",
   "metadata": {},
   "source": [
    "#### R2 Score"
   ]
  },
  {
   "cell_type": "markdown",
   "id": "fe016af6",
   "metadata": {},
   "source": [
    "This is ismply the total variance explained by the model over the total variance explained by the model plus the the total variance not explained by the model"
   ]
  },
  {
   "cell_type": "code",
   "execution_count": null,
   "id": "a2398199",
   "metadata": {},
   "outputs": [],
   "source": []
  }
 ],
 "metadata": {
  "kernelspec": {
   "display_name": "Python 3",
   "language": "python",
   "name": "python3"
  },
  "language_info": {
   "codemirror_mode": {
    "name": "ipython",
    "version": 3
   },
   "file_extension": ".py",
   "mimetype": "text/x-python",
   "name": "python",
   "nbconvert_exporter": "python",
   "pygments_lexer": "ipython3",
   "version": "3.8.8"
  }
 },
 "nbformat": 4,
 "nbformat_minor": 5
}
