{
 "cells": [
  {
   "cell_type": "markdown",
   "id": "b0497c1c",
   "metadata": {},
   "source": [
    "# Linear / Single Variable Regressors"
   ]
  },
  {
   "cell_type": "code",
   "execution_count": 1,
   "id": "40f89ebf",
   "metadata": {},
   "outputs": [],
   "source": [
    "#The explanation was gotten from the towardsdatascience.com website "
   ]
  },
  {
   "cell_type": "markdown",
   "id": "08c9c7c2",
   "metadata": {},
   "source": [
    "A linear regression refers to a regression model that is completely made up of linear variables. Beginning with the simple case, Single Variable Linear Regression is a technique used to model the relationship between a single input independent variable (feature variable) and an output dependent variable using a linear model"
   ]
  },
  {
   "cell_type": "code",
   "execution_count": 17,
   "id": "1a3d766c",
   "metadata": {},
   "outputs": [],
   "source": [
    "#some part of the code gotten from an article on the sci-kit learn official website"
   ]
  },
  {
   "cell_type": "code",
   "execution_count": 18,
   "id": "b3959c69",
   "metadata": {},
   "outputs": [],
   "source": [
    "\n",
    "#import packages \n",
    "import numpy as np\n",
    "from sklearn.model_selection import train_test_split\n",
    "from sklearn.linear_model import LinearRegression\n",
    "from sklearn.datasets import load_diabetes\n",
    "import sklearn.metrics as metrics\n",
    "%matplotlib inline\n",
    "import matplotlib.pyplot as plt"
   ]
  },
  {
   "cell_type": "code",
   "execution_count": 8,
   "id": "beec8f40",
   "metadata": {},
   "outputs": [],
   "source": [
    "x, y = load_diabetes(return_X_y = True)\n",
    "\n",
    "x = x[:, np.newaxis, 2]"
   ]
  },
  {
   "cell_type": "code",
   "execution_count": 10,
   "id": "69af3518",
   "metadata": {},
   "outputs": [],
   "source": [
    "#split data\n",
    "\n",
    "x_train, x_test, y_train, y_test = train_test_split(x, y)"
   ]
  },
  {
   "cell_type": "code",
   "execution_count": 11,
   "id": "7be7cd8e",
   "metadata": {},
   "outputs": [
    {
     "data": {
      "text/plain": [
       "LinearRegression()"
      ]
     },
     "execution_count": 11,
     "metadata": {},
     "output_type": "execute_result"
    }
   ],
   "source": [
    "model = LinearRegression()\n",
    "\n",
    "model.fit(x_train, y_train)"
   ]
  },
  {
   "cell_type": "code",
   "execution_count": 14,
   "id": "e808f801",
   "metadata": {},
   "outputs": [
    {
     "name": "stdout",
     "output_type": "stream",
     "text": [
      "[313.59740563 155.57016027 107.25609799 137.45238691 130.40658617\n",
      " 155.57016027  78.06635203 160.60287509 109.26918392 154.5636173\n",
      " 131.41312913 125.37387134 147.51781655 116.31498467 120.34115652\n",
      "  91.15141057 124.36732838 120.34115652 122.35424245 146.51127359\n",
      " 214.95619515 204.89076551 130.40658617 175.70101955 214.95619515\n",
      " 130.40658617 125.37387134 103.22992613 198.85150772 190.79916401\n",
      " 200.86459365 132.41967209 145.50473063 209.92348033 121.34769949\n",
      " 117.32152763 135.43930099 178.72064844 143.4916447   83.09906685\n",
      "  82.09252389 125.37387134 135.43930099 182.7468203  194.82533587\n",
      " 103.22992613 148.52435952 134.43275802 110.27572688 124.36732838\n",
      " 123.36078542  96.18412539 202.87767958  92.15795353 160.60287509\n",
      " 144.49818766 169.66176176 227.03471072 218.982367    87.12523871\n",
      " 134.43275802 135.43930099  95.17758242 172.68139066  99.20375428\n",
      " 107.25609799 120.34115652  95.17758242 163.62250398 209.92348033\n",
      "  88.13178167 152.55053138 226.02816775 200.86459365 190.79916401\n",
      " 140.47201581  86.11869575 158.58978916 118.3280706  130.40658617\n",
      " 155.57016027 160.60287509 155.57016027 123.36078542 117.32152763\n",
      " 220.99545293 123.36078542 171.67484769  70.01400832  94.17103946\n",
      " 167.64867584 131.41312913 204.89076551 125.37387134 152.55053138\n",
      " 115.3084417  120.34115652 159.59633212 167.64867584 165.63558991\n",
      " 244.14594111 186.77299215 177.71410548 146.51127359 163.62250398\n",
      " 155.57016027 134.43275802 206.90385144  97.19066835 147.51781655\n",
      " 206.90385144]\n"
     ]
    }
   ],
   "source": [
    "#predicting results\n",
    "prediction = model.predict(x_test)\n",
    "\n",
    "print(prediction)"
   ]
  },
  {
   "cell_type": "code",
   "execution_count": 15,
   "id": "70fabbf1",
   "metadata": {},
   "outputs": [
    {
     "data": {
      "image/png": "[encoded data removed]",
      "text/plain": [
       "<Figure size 432x288 with 1 Axes>"
      ]
     },
     "metadata": {},
     "output_type": "display_data"
    }
   ],
   "source": [
    "#now to plot and visualize the data\n",
    "plt.scatter(x_test, y_test, color='green')\n",
    "\n",
    "plt.plot(x_test, prediction, color = 'black', linewidth = 2)\n",
    "\n",
    "plt.xticks(())\n",
    "\n",
    "plt.yticks(())\n",
    "\n",
    "plt.show()"
   ]
  },
  {
   "cell_type": "code",
   "execution_count": 19,
   "id": "07a72a36",
   "metadata": {},
   "outputs": [],
   "source": [
    "#performance of the model\n",
    "\n",
    "#mean absolute error\n",
    "mean_absolute_error = round(metrics.mean_absolute_error(y_test, prediction), 2)\n",
    "\n",
    "#median absolute error\n",
    "median_absolute_error = round(metrics.median_absolute_error(y_test, prediction), 2)\n",
    "\n",
    "#mean squared error\n",
    "mean_squared_error = round(metrics.mean_squared_error(y_test, prediction), 2)\n",
    "\n",
    "#explained variance score\n",
    "explained_variance_score = round(metrics.explained_variance_score(y_test, prediction), 2)\n",
    "\n",
    "#r2 score\n",
    "r2_score = round(metrics.r2_score(y_test, prediction), 2)"
   ]
  },
  {
   "cell_type": "code",
   "execution_count": 22,
   "id": "37eb3b95",
   "metadata": {},
   "outputs": [
    {
     "name": "stdout",
     "output_type": "stream",
     "text": [
      "Model Performance Measures\n",
      "\n",
      "\n",
      "Mean Absolute Error: 52.84\n",
      "Median Absolute Error: 44.64\n",
      "Mean Squared Error: 4040.92\n",
      "Explained Variance Score: 0.33\n",
      "R2 Score: 0.31\n"
     ]
    }
   ],
   "source": [
    "#output performnace measures\n",
    "\n",
    "print(\"Model Performance Measures\")\n",
    "print()\n",
    "print()\n",
    "print(\"Mean Absolute Error:\", mean_absolute_error)\n",
    "\n",
    "print(\"Median Absolute Error:\", median_absolute_error)\n",
    "\n",
    "print(\"Mean Squared Error:\", mean_squared_error)\n",
    "\n",
    "print(\"Explained Variance Score:\", explained_variance_score)\n",
    "\n",
    "print(\"R2 Score:\", r2_score)"
   ]
  },
  {
   "cell_type": "markdown",
   "id": "56bfc698",
   "metadata": {},
   "source": [
    "## Explanation of Performance Measures"
   ]
  },
  {
   "cell_type": "markdown",
   "id": "211fb82a",
   "metadata": {},
   "source": [
    "#### Mean Absolute Error:"
   ]
  },
  {
   "cell_type": "markdown",
   "id": "1659e27f",
   "metadata": {},
   "source": [
    "This is a model evaluation metric used with regression models. The mean absolute error of a model with respect to a test set is the mean of the absolute values of the individual prediction errors on over all instances in the test set."
   ]
  },
  {
   "cell_type": "markdown",
   "id": "d68a9d1d",
   "metadata": {},
   "source": [
    "#### Median Absolute Error"
   ]
  },
  {
   "cell_type": "markdown",
   "id": "d762b897",
   "metadata": {},
   "source": [
    " To begin, Absolute errors refer to the magnitude of difference between the prediction of an observation and the true value of that observation. MAE takes the average of absolute errors for a group of predictions and observations as a measurement of the magnitude of errors for the entire group."
   ]
  },
  {
   "cell_type": "markdown",
   "id": "15c9c876",
   "metadata": {},
   "source": [
    "#### Mean Squared Error"
   ]
  },
  {
   "cell_type": "markdown",
   "id": "22e8440f",
   "metadata": {},
   "source": [
    "Mean squared errors measure the average squared difference between the estimated values and the actual value."
   ]
  },
  {
   "cell_type": "markdown",
   "id": "229da627",
   "metadata": {},
   "source": [
    "#### Explained Variance Score"
   ]
  },
  {
   "cell_type": "markdown",
   "id": "e91c5e26",
   "metadata": {},
   "source": [
    "Explained variance score is used to measure the discrepancy between a model's prediction and actual data provided."
   ]
  },
  {
   "cell_type": "markdown",
   "id": "2821f7d1",
   "metadata": {},
   "source": [
    "#### R2 Score"
   ]
  },
  {
   "cell_type": "markdown",
   "id": "37398da2",
   "metadata": {},
   "source": [
    "This is simply the total variance explained by the model over the total variance explained by the model plus the the total variance not explained by the model"
   ]
  },
  {
   "cell_type": "code",
   "execution_count": null,
   "id": "daadd7d8",
   "metadata": {},
   "outputs": [],
   "source": []
  }
 ],
 "metadata": {
  "kernelspec": {
   "display_name": "Python 3",
   "language": "python",
   "name": "python3"
  },
  "language_info": {
   "codemirror_mode": {
    "name": "ipython",
    "version": 3
   },
   "file_extension": ".py",
   "mimetype": "text/x-python",
   "name": "python",
   "nbconvert_exporter": "python",
   "pygments_lexer": "ipython3",
   "version": "3.8.8"
  }
 },
 "nbformat": 4,
 "nbformat_minor": 5
}
