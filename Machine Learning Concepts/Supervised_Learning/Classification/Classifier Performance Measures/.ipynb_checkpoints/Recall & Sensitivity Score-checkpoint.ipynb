{
 "cells": [
  {
   "cell_type": "markdown",
   "id": "6dd93daa",
   "metadata": {},
   "source": [
    "# Recall / Sensitivity "
   ]
  },
  {
   "cell_type": "markdown",
   "id": "aa31b0d5",
   "metadata": {},
   "source": [
    "Recall is simply defined as the number of true positives divided by the number of true positives plus the number of false negatives."
   ]
  },
  {
   "cell_type": "markdown",
   "id": "96964c0b",
   "metadata": {},
   "source": [
    "Recall can be thought as of a model's ability to find all the data points of interest in a dataset."
   ]
  },
  {
   "cell_type": "markdown",
   "id": "c8b2823e",
   "metadata": {},
   "source": [
    "## Implementation of Recall "
   ]
  },
  {
   "cell_type": "code",
   "execution_count": 1,
   "id": "ce0e57d4",
   "metadata": {},
   "outputs": [],
   "source": [
    "from sklearn.datasets import load_breast_cancer\n",
    "\n",
    "from sklearn.linear_model import LogisticRegression\n",
    "\n",
    "from sklearn.model_selection import train_test_split\n"
   ]
  },
  {
   "cell_type": "code",
   "execution_count": 2,
   "id": "24880e36",
   "metadata": {},
   "outputs": [],
   "source": [
    "#get the data\n",
    "data = load_breast_cancer()\n",
    "\n",
    "x = data.data\n",
    "\n",
    "y = data.target\n",
    "\n",
    "#split the data\n",
    "x_train, x_test, y_train, y_test = train_test_split(x, y)"
   ]
  },
  {
   "cell_type": "code",
   "execution_count": 3,
   "id": "37c4dae4",
   "metadata": {},
   "outputs": [
    {
     "data": {
      "text/plain": [
       "LogisticRegression(max_iter=2000)"
      ]
     },
     "execution_count": 3,
     "metadata": {},
     "output_type": "execute_result"
    }
   ],
   "source": [
    "model = LogisticRegression(max_iter=2000)\n",
    "\n",
    "model.fit(x_train, y_train)\n"
   ]
  },
  {
   "cell_type": "code",
   "execution_count": 4,
   "id": "e0a4a330",
   "metadata": {},
   "outputs": [
    {
     "name": "stdout",
     "output_type": "stream",
     "text": [
      "[1 1 1 0 0 1 1 0 1 0 0 1 0 1 0 1 0 0 0 1 0 0 1 0 1 1 1 1 0 0 0 0 1 0 0 1 1\n",
      " 1 0 1 0 1 0 1 1 0 1 1 1 0 1 1 1 1 1 0 1 1 0 1 1 1 1 0 1 0 1 0 1 1 0 1 0 1\n",
      " 1 1 1 1 1 1 1 0 0 0 1 1 0 1 0 1 1 1 1 1 0 1 0 0 0 1 0 1 1 1 0 1 0 1 1 0 1\n",
      " 1 1 1 1 1 0 1 1 1 0 1 0 0 1 1 1 0 1 1 1 0 0 1 1 1 1 0 1 0 0 0 1]\n"
     ]
    }
   ],
   "source": [
    "prediction = model.predict(x_test)\n",
    "print(prediction)"
   ]
  },
  {
   "cell_type": "code",
   "execution_count": 5,
   "id": "811a1007",
   "metadata": {},
   "outputs": [
    {
     "name": "stdout",
     "output_type": "stream",
     "text": [
      "The Model's recall is:\n",
      "0.9545454545454546\n"
     ]
    }
   ],
   "source": [
    "#importing recall\n",
    "from sklearn.metrics import recall_score\n",
    "\n",
    "#getting our recall\n",
    "recall = recall_score(prediction, y_test)\n",
    "\n",
    "print(\"The Model's recall is:\")\n",
    "\n",
    "print(recall)"
   ]
  },
  {
   "cell_type": "code",
   "execution_count": null,
   "id": "b4684049",
   "metadata": {},
   "outputs": [],
   "source": []
  }
 ],
 "metadata": {
  "kernelspec": {
   "display_name": "Python 3",
   "language": "python",
   "name": "python3"
  },
  "language_info": {
   "codemirror_mode": {
    "name": "ipython",
    "version": 3
   },
   "file_extension": ".py",
   "mimetype": "text/x-python",
   "name": "python",
   "nbconvert_exporter": "python",
   "pygments_lexer": "ipython3",
   "version": "3.8.8"
  }
 },
 "nbformat": 4,
 "nbformat_minor": 5
}
