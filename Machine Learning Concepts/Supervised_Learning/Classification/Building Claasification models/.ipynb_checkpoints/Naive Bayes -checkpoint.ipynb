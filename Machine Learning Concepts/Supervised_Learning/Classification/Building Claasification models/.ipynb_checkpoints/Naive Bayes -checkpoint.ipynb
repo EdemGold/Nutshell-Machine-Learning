{
 "cells": [
  {
   "cell_type": "markdown",
   "id": "5af65c60",
   "metadata": {},
   "source": [
    "# Naive Bayes model"
   ]
  },
  {
   "cell_type": "markdown",
   "id": "85cb43ad",
   "metadata": {},
   "source": [
    "Naive Bayes is a classification technique used to build classifier using the Bayes Theorem. It assumes that predictors are different. In simple word sit assumes that the presence of a particular feature is not related in any way to the presence of another."
   ]
  },
  {
   "cell_type": "markdown",
   "id": "47978231",
   "metadata": {},
   "source": [
    "There are 3 type sof Naive Bayes models "
   ]
  },
  {
   "cell_type": "markdown",
   "id": "0f27de25",
   "metadata": {},
   "source": [
    "#### Gaussian "
   ]
  },
  {
   "cell_type": "markdown",
   "id": "d77517dd",
   "metadata": {},
   "source": [
    "#### Multinomial"
   ]
  },
  {
   "cell_type": "markdown",
   "id": "65e08080",
   "metadata": {},
   "source": [
    "#### Bernoulli"
   ]
  },
  {
   "cell_type": "markdown",
   "id": "f0cbf299",
   "metadata": {},
   "source": [
    "We are going to build all three of them"
   ]
  },
  {
   "cell_type": "markdown",
   "id": "6f04acd1",
   "metadata": {},
   "source": [
    "## Dataset"
   ]
  },
  {
   "cell_type": "markdown",
   "id": "5c8c63bc",
   "metadata": {},
   "source": [
    "We are going to make us of scikit-learns inbuilt Breast Cancer Wisconsin Dataset"
   ]
  },
  {
   "cell_type": "markdown",
   "id": "b7a0e46b",
   "metadata": {},
   "source": [
    "### Preparing the data"
   ]
  },
  {
   "cell_type": "code",
   "execution_count": 2,
   "id": "eaaab3b7",
   "metadata": {},
   "outputs": [],
   "source": [
    "from sklearn.datasets import load_breast_cancer\n",
    "\n",
    "data = load_breast_cancer()"
   ]
  },
  {
   "cell_type": "code",
   "execution_count": 3,
   "id": "357928ed",
   "metadata": {},
   "outputs": [],
   "source": [
    "label_names = data['target_names']\n",
    "\n",
    "labels = data['target']\n",
    "\n",
    "feature_names = data['feature_names']\n",
    "\n",
    "features = data['data']"
   ]
  },
  {
   "cell_type": "markdown",
   "id": "1a3e0a51",
   "metadata": {},
   "source": [
    "We have gotten all the core components of our data which we will use "
   ]
  },
  {
   "cell_type": "markdown",
   "id": "e934a841",
   "metadata": {},
   "source": [
    "Now to split the data into training sets and test sets"
   ]
  },
  {
   "cell_type": "code",
   "execution_count": 4,
   "id": "1dbae20b",
   "metadata": {},
   "outputs": [],
   "source": [
    "from sklearn.model_selection import train_test_split"
   ]
  },
  {
   "cell_type": "code",
   "execution_count": 5,
   "id": "e7d18323",
   "metadata": {},
   "outputs": [],
   "source": [
    "train_data, test_data, train_label, test_label = train_test_split(features, labels, test_size=0.40, random_state=40)"
   ]
  },
  {
   "cell_type": "markdown",
   "id": "ab918fad",
   "metadata": {},
   "source": [
    "### Trick"
   ]
  },
  {
   "cell_type": "markdown",
   "id": "0fb10627",
   "metadata": {},
   "source": [
    "If you want to see all the objects that can be imported from a particular module in python "
   ]
  },
  {
   "cell_type": "code",
   "execution_count": 8,
   "id": "a28ec91b",
   "metadata": {},
   "outputs": [
    {
     "name": "stdout",
     "output_type": "stream",
     "text": [
      "['ABCMeta', 'BaseEstimator', 'BernoulliNB', 'CategoricalNB', 'ClassifierMixin', 'ComplementNB', 'GaussianNB', 'LabelBinarizer', 'MultinomialNB', '_ALPHA_MIN', '_BaseDiscreteNB', '_BaseNB', '__all__', '__builtins__', '__cached__', '__doc__', '__file__', '__loader__', '__name__', '__package__', '__spec__', '_check_partial_fit_first_call', '_check_sample_weight', '_deprecate_positional_args', 'abstractmethod', 'binarize', 'check_X_y', 'check_array', 'check_is_fitted', 'check_non_negative', 'column_or_1d', 'deprecated', 'label_binarize', 'logsumexp', 'np', 'safe_sparse_dot', 'warnings']\n"
     ]
    }
   ],
   "source": [
    "import sklearn.naive_bayes as nb\n",
    "print(dir(nb))"
   ]
  },
  {
   "cell_type": "markdown",
   "id": "54d85d41",
   "metadata": {},
   "source": [
    "The above code goes into the naive_bayes module from the sklearn module and brings all the functions in the module"
   ]
  },
  {
   "cell_type": "markdown",
   "id": "635746c3",
   "metadata": {},
   "source": [
    "## Building Naive Bayes Models"
   ]
  },
  {
   "cell_type": "markdown",
   "id": "19800cd6",
   "metadata": {},
   "source": [
    "### Gaussian Naive Bayes"
   ]
  },
  {
   "cell_type": "code",
   "execution_count": 9,
   "id": "cdebf81c",
   "metadata": {},
   "outputs": [],
   "source": [
    "from sklearn.naive_bayes import GaussianNB \n",
    "\n",
    "#now to initialize the model\n",
    "gnb = GaussianNB ()"
   ]
  },
  {
   "cell_type": "code",
   "execution_count": 11,
   "id": "02c399d1",
   "metadata": {},
   "outputs": [],
   "source": [
    "model = gnb.fit(train_data, train_label)\n"
   ]
  },
  {
   "cell_type": "markdown",
   "id": "7159f9ca",
   "metadata": {},
   "source": [
    "#### Accuracy of Gaussian Naive Bayes "
   ]
  },
  {
   "cell_type": "code",
   "execution_count": 14,
   "id": "720252c3",
   "metadata": {},
   "outputs": [
    {
     "name": "stdout",
     "output_type": "stream",
     "text": [
      "[1 0 1 1 0 1 1 1 0 1 0 1 1 1 0 1 1 1 1 1 1 0 1 0 0 0 0 0 1 1 1 0 0 1 1 1 1\n",
      " 0 1 1 0 1 1 1 0 0 1 1 0 1 0 1 1 1 1 1 0 0 0 1 1 0 1 1 1 0 0 0 1 1 1 0 0 1\n",
      " 0 0 0 1 1 1 1 1 0 1 0 1 0 0 1 0 1 1 1 1 1 0 1 1 1 1 1 1 1 0 1 1 1 0 1 1 1\n",
      " 1 0 1 0 1 1 1 1 0 0 1 1 1 1 0 0 1 1 1 1 1 1 1 1 1 1 1 0 1 0 1 1 0 1 1 1 1\n",
      " 1 0 1 0 1 0 1 1 0 1 0 1 0 1 1 1 1 1 1 1 0 1 0 0 1 0 1 0 1 1 1 1 1 1 1 1 1\n",
      " 1 1 0 0 1 1 1 0 0 1 0 1 1 0 1 0 0 1 1 1 0 1 0 0 1 0 1 1 1 0 0 1 1 0 1 1 0\n",
      " 0 0 1 0 1 1]\n"
     ]
    }
   ],
   "source": [
    "#now we will get our models prediction\n",
    "prediction = gnb.predict(test_data)\n",
    "\n",
    "print(prediction)"
   ]
  },
  {
   "cell_type": "code",
   "execution_count": 23,
   "id": "f6b7c271",
   "metadata": {},
   "outputs": [
    {
     "name": "stdout",
     "output_type": "stream",
     "text": [
      " Gaussian Accuracy:\n",
      "0.8947368421052632\n"
     ]
    }
   ],
   "source": [
    "#now we find the accuracy\n",
    "from sklearn.metrics import accuracy_score\n",
    "\n",
    "accuracy = accuracy_score(test_label, prediction)\n",
    "\n",
    "print(\" Gaussian Accuracy:\")\n",
    "print(accuracy)"
   ]
  },
  {
   "cell_type": "markdown",
   "id": "94965d5b",
   "metadata": {},
   "source": [
    "### Multinomial Naive Bayes"
   ]
  },
  {
   "cell_type": "code",
   "execution_count": 19,
   "id": "1398866a",
   "metadata": {},
   "outputs": [],
   "source": [
    "from sklearn.naive_bayes import MultinomialNB\n",
    "\n",
    "#Now to initialize the Multinomial naive_bayes model\n",
    "mnb = MultinomialNB()\n"
   ]
  },
  {
   "cell_type": "code",
   "execution_count": 21,
   "id": "64fda720",
   "metadata": {},
   "outputs": [],
   "source": [
    "model = mnb.fit(train_data, train_label)"
   ]
  },
  {
   "cell_type": "markdown",
   "id": "30719512",
   "metadata": {},
   "source": [
    "#### Accuracy of Multinomial"
   ]
  },
  {
   "cell_type": "code",
   "execution_count": 22,
   "id": "30e486c6",
   "metadata": {},
   "outputs": [
    {
     "name": "stdout",
     "output_type": "stream",
     "text": [
      "[1 0 1 1 1 1 1 1 0 1 0 1 1 1 0 1 1 1 1 1 1 0 1 0 0 1 0 0 1 1 1 0 0 1 1 1 1\n",
      " 0 1 1 0 1 1 1 0 1 1 1 0 1 0 1 1 1 0 1 1 1 0 1 1 1 1 1 1 0 0 0 1 1 1 1 0 1\n",
      " 0 0 0 1 1 1 1 1 0 1 0 1 0 0 1 0 1 1 1 1 1 1 1 1 1 1 1 1 1 0 1 1 1 0 1 1 1\n",
      " 1 0 1 1 1 1 1 1 0 1 1 1 1 1 1 0 1 1 1 1 1 1 1 1 1 1 1 0 1 0 1 1 0 0 1 1 1\n",
      " 1 0 1 0 1 1 1 1 0 1 0 1 0 1 1 1 1 1 1 1 0 1 0 1 1 0 1 0 1 1 1 1 1 1 1 1 1\n",
      " 1 1 0 1 1 1 1 0 1 1 0 1 0 0 1 0 0 1 1 1 1 1 0 0 1 0 1 1 1 0 0 1 1 0 1 1 0\n",
      " 0 0 1 1 1 1]\n"
     ]
    }
   ],
   "source": [
    "prediction = mnb.predict(test_data)\n",
    "print(prediction)"
   ]
  },
  {
   "cell_type": "code",
   "execution_count": 26,
   "id": "7b7921be",
   "metadata": {},
   "outputs": [
    {
     "name": "stdout",
     "output_type": "stream",
     "text": [
      "Multinomial Accuracy:\n",
      "0.8947368421052632\n"
     ]
    }
   ],
   "source": [
    "Accuracy = accuracy_score(test_label, prediction)\n",
    "\n",
    "print(\"Multinomial Accuracy:\")\n",
    "print(Accuracy)"
   ]
  },
  {
   "cell_type": "markdown",
   "id": "4e42130e",
   "metadata": {},
   "source": [
    "### Bernoulli Naive Bayes"
   ]
  },
  {
   "cell_type": "code",
   "execution_count": 29,
   "id": "ca398c00",
   "metadata": {},
   "outputs": [],
   "source": [
    "from sklearn.naive_bayes import BernoulliNB\n",
    "\n",
    "#Now to initialize the model\n",
    "bnb = BernoulliNB()\n",
    "\n",
    "model = bnb.fit(train_data, train_label)"
   ]
  },
  {
   "cell_type": "markdown",
   "id": "611acd25",
   "metadata": {},
   "source": [
    "#### Accuracy of Bernoulli Naive Bayes"
   ]
  },
  {
   "cell_type": "code",
   "execution_count": 30,
   "id": "55d221f7",
   "metadata": {},
   "outputs": [
    {
     "name": "stdout",
     "output_type": "stream",
     "text": [
      "[1 1 1 1 1 1 1 1 1 1 1 1 1 1 1 1 1 1 1 1 1 1 1 1 1 1 1 1 1 1 1 1 1 1 1 1 1\n",
      " 1 1 1 1 1 1 1 1 1 1 1 1 1 1 1 1 1 1 1 1 1 1 1 1 1 1 1 1 1 1 1 1 1 1 1 1 1\n",
      " 1 1 1 1 1 1 1 1 1 1 1 1 1 1 1 1 1 1 1 1 1 1 1 1 1 1 1 1 1 1 1 1 1 1 1 1 1\n",
      " 1 1 1 1 1 1 1 1 1 1 1 1 1 1 1 1 1 1 1 1 1 1 1 1 1 1 1 1 1 1 1 1 1 1 1 1 1\n",
      " 1 1 1 1 1 1 1 1 1 1 1 1 1 1 1 1 1 1 1 1 1 1 1 1 1 1 1 1 1 1 1 1 1 1 1 1 1\n",
      " 1 1 1 1 1 1 1 1 1 1 1 1 1 1 1 1 1 1 1 1 1 1 1 1 1 1 1 1 1 1 1 1 1 1 1 1 1\n",
      " 1 1 1 1 1 1]\n"
     ]
    }
   ],
   "source": [
    "prediction = bnb.predict(test_data)\n",
    "print(prediction)"
   ]
  },
  {
   "cell_type": "code",
   "execution_count": 32,
   "id": "8af7d251",
   "metadata": {},
   "outputs": [
    {
     "name": "stdout",
     "output_type": "stream",
     "text": [
      "Bernoulli Accuracy:\n",
      "0.6491228070175439\n"
     ]
    }
   ],
   "source": [
    "Accuracy = accuracy_score(test_label, prediction)\n",
    "\n",
    "print(\"Bernoulli Accuracy:\")\n",
    "\n",
    "print(Accuracy)"
   ]
  },
  {
   "cell_type": "code",
   "execution_count": null,
   "id": "0eabfcfc",
   "metadata": {},
   "outputs": [],
   "source": []
  }
 ],
 "metadata": {
  "kernelspec": {
   "display_name": "Python 3",
   "language": "python",
   "name": "python3"
  },
  "language_info": {
   "codemirror_mode": {
    "name": "ipython",
    "version": 3
   },
   "file_extension": ".py",
   "mimetype": "text/x-python",
   "name": "python",
   "nbconvert_exporter": "python",
   "pygments_lexer": "ipython3",
   "version": "3.8.8"
  }
 },
 "nbformat": 4,
 "nbformat_minor": 5
}
