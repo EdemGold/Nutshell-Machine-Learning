{
 "cells": [
  {
   "cell_type": "markdown",
   "id": "09f32e6b",
   "metadata": {},
   "source": [
    "# Logistic Regression"
   ]
  },
  {
   "cell_type": "markdown",
   "id": "039e295a",
   "metadata": {},
   "source": [
    "Logistic regression is one of the memebers of the supervised classification family. It simply measures the relationship between dependant variables and independent variables by estimating the probabilities using a logistic function."
   ]
  },
  {
   "cell_type": "markdown",
   "id": "d3836ff6",
   "metadata": {},
   "source": [
    "Here if we talk about dependant and independant variables then the dependant variable is the target class variable we are going to predict and on the other side the independent variable is the target class varibale we are going to predict."
   ]
  },
  {
   "cell_type": "markdown",
   "id": "22923813",
   "metadata": {},
   "source": [
    "## Dataset"
   ]
  },
  {
   "cell_type": "markdown",
   "id": "40713a21",
   "metadata": {},
   "source": [
    "We are going to create our own dataset using the numpy array."
   ]
  },
  {
   "cell_type": "code",
   "execution_count": 3,
   "id": "a1a985c1",
   "metadata": {},
   "outputs": [],
   "source": [
    "#import neccesary packages\n",
    "import numpy as np\n",
    "\n",
    "from sklearn.linear_model import LogisticRegression\n",
    "\n",
    "%matplotlib inline\n",
    "\n",
    "import matplotlib.pyplot as plt"
   ]
  },
  {
   "cell_type": "code",
   "execution_count": 4,
   "id": "fc1e5c3a",
   "metadata": {},
   "outputs": [],
   "source": [
    "#creating our data\n",
    "x = np.array([[2.1, 3], [1, 3], [2, 4], [2.1, 2], [3.2, 7.4], [4.5, 6.1], [1.5, 3], [5.6, 7.3]])\n",
    "\n",
    "y = np.array([1, 2, 3, 4, 5, 4, 6, 6])"
   ]
  },
  {
   "cell_type": "code",
   "execution_count": 5,
   "id": "ddefae3c",
   "metadata": {},
   "outputs": [
    {
     "data": {
      "text/plain": [
       "LogisticRegression(C=75, solver='liblinear')"
      ]
     },
     "execution_count": 5,
     "metadata": {},
     "output_type": "execute_result"
    }
   ],
   "source": [
    "#instantiating model\n",
    "model = LogisticRegression(solver = 'liblinear', C = 75)\n",
    "\n",
    "model.fit(x, y)"
   ]
  },
  {
   "cell_type": "code",
   "execution_count": 14,
   "id": "511eda56",
   "metadata": {},
   "outputs": [],
   "source": [
    "#now we will create a function to visualize the output\n",
    "\n",
    "min_x, max_x = x[:, 0].min() - 1.0, x[:, 0].max() + 1.0\n",
    "min_y, max_y = x[:, 1].min() - 1.0, x[:, 1].max() + 1.0"
   ]
  },
  {
   "cell_type": "code",
   "execution_count": 15,
   "id": "da679348",
   "metadata": {},
   "outputs": [],
   "source": [
    "#now we define the step size for plotting the mesh grid\n",
    "mesh_step_size = 0.02"
   ]
  },
  {
   "cell_type": "code",
   "execution_count": 16,
   "id": "087b0acd",
   "metadata": {},
   "outputs": [],
   "source": [
    "x_vals, y_vals = np.meshgrid(np.arange(min_x, max_x, mesh_step_size),\n",
    "                            np.arange(min_y, max_y, mesh_step_size))\n",
    "\n"
   ]
  },
  {
   "cell_type": "code",
   "execution_count": 23,
   "id": "2e309e56",
   "metadata": {},
   "outputs": [
    {
     "name": "stderr",
     "output_type": "stream",
     "text": [
      "<ipython-input-23-e5dd6a1d2fea>:8: MatplotlibDeprecationWarning: shading='flat' when X and Y have the same dimensions as C is deprecated since 3.3.  Either specify the corners of the quadrilaterals with X and Y, or pass shading='auto', 'nearest' or 'gouraud', or set rcParams['pcolor.shading'].  This will become an error two minor releases later.\n",
      "  plt.pcolormesh(x_vals, y_vals, output, cmap = plt.cm.gray)\n"
     ]
    },
    {
     "data": {
      "image/png": "[encoded data removed]",
      "text/plain": [
       "<Figure size 432x288 with 1 Axes>"
      ]
     },
     "metadata": {
      "needs_background": "light"
     },
     "output_type": "display_data"
    }
   ],
   "source": [
    "#now to output the mesh grid\n",
    "output = model.predict(np.c_[x_vals.ravel(), y_vals.ravel()])\n",
    "\n",
    "output = output.reshape(x_vals.shape)\n",
    "\n",
    "plt.figure()\n",
    "\n",
    "plt.pcolormesh(x_vals, y_vals, output, cmap = plt.cm.gray)\n",
    "\n",
    "#plotting scatter plot\n",
    "plt.scatter(x[:, 0], x[:, 1], c = y, s = 75, edgecolors = 'black', linewidth=1, cmap = plt.cm.Paired)\n",
    "\n",
    "\n",
    "plt.show()"
   ]
  },
  {
   "cell_type": "code",
   "execution_count": null,
   "id": "7abac1bf",
   "metadata": {},
   "outputs": [],
   "source": []
  }
 ],
 "metadata": {
  "kernelspec": {
   "display_name": "Python 3",
   "language": "python",
   "name": "python3"
  },
  "language_info": {
   "codemirror_mode": {
    "name": "ipython",
    "version": 3
   },
   "file_extension": ".py",
   "mimetype": "text/x-python",
   "name": "python",
   "nbconvert_exporter": "python",
   "pygments_lexer": "ipython3",
   "version": "3.8.8"
  }
 },
 "nbformat": 4,
 "nbformat_minor": 5
}
