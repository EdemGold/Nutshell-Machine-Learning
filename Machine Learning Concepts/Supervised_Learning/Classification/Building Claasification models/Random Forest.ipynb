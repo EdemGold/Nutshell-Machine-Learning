{
 "cells": [
  {
   "cell_type": "markdown",
   "id": "da0d70d0",
   "metadata": {},
   "source": [
    "# Random Forest Classifier"
   ]
  },
  {
   "cell_type": "markdown",
   "id": "bf63a0a2",
   "metadata": {},
   "source": [
    "A random forest is something called a ensemble. "
   ]
  },
  {
   "cell_type": "markdown",
   "id": "2d1240a3",
   "metadata": {},
   "source": [
    "An ensemble is simply a way to combine multiple Machine learning models into one powerful Machine Learning model"
   ]
  },
  {
   "cell_type": "markdown",
   "id": "90bb5ead",
   "metadata": {},
   "source": [
    "So a Random Forest is an ensemble of Decsion Trees. It is the combination of multiple Machine Learning Models. A Random Forest is better than a single Decision Tree. "
   ]
  },
  {
   "cell_type": "markdown",
   "id": "bff68592",
   "metadata": {},
   "source": [
    "## Dataset"
   ]
  },
  {
   "cell_type": "markdown",
   "id": "0b76f0c0",
   "metadata": {},
   "source": [
    "We are going to make use of sklearns inbuilt wisconsin cancer dataset"
   ]
  },
  {
   "cell_type": "code",
   "execution_count": 3,
   "id": "05b94bfd",
   "metadata": {},
   "outputs": [],
   "source": [
    "#importing necessary packages\n",
    "import numpy as np\n",
    "\n",
    "from sklearn.ensemble import RandomForestClassifier\n",
    "\n",
    "from sklearn.model_selection import train_test_split\n",
    "\n",
    "from sklearn.datasets import load_breast_cancer\n",
    "\n",
    "%matplotlib inline\n",
    "\n",
    "import matplotlib.pyplot as plt"
   ]
  },
  {
   "cell_type": "code",
   "execution_count": 6,
   "id": "9f024b2b",
   "metadata": {},
   "outputs": [],
   "source": [
    "#prepare the data\n",
    "cancer_data = load_breast_cancer()\n",
    "\n",
    "x = cancer_data.data\n",
    "\n",
    "y = cancer_data.target\n",
    "\n",
    "#splittting the data\n",
    "x_train, x_test, y_train, y_test = train_test_split(x, y, random_state=0)"
   ]
  },
  {
   "cell_type": "code",
   "execution_count": 8,
   "id": "6fbb74f4",
   "metadata": {},
   "outputs": [
    {
     "data": {
      "text/plain": [
       "RandomForestClassifier(n_estimators=50)"
      ]
     },
     "execution_count": 8,
     "metadata": {},
     "output_type": "execute_result"
    }
   ],
   "source": [
    "#instantiate the model\n",
    "model = RandomForestClassifier(n_estimators=50) #n_estimators is simply the number trees being combined to form the decision forest\n",
    "\n",
    "#fit data to model\n",
    "model.fit(x_train, y_train)"
   ]
  },
  {
   "cell_type": "markdown",
   "id": "cf901c75",
   "metadata": {},
   "source": [
    "## Accuracy of the model"
   ]
  },
  {
   "cell_type": "markdown",
   "id": "a7736bbb",
   "metadata": {},
   "source": [
    "Here we will see the accuracy of the model on the training data "
   ]
  },
  {
   "cell_type": "code",
   "execution_count": 11,
   "id": "69863e3f",
   "metadata": {},
   "outputs": [
    {
     "name": "stdout",
     "output_type": "stream",
     "text": [
      "[0 1 1 1 1 1 1 1 1 1 0 1 1 0 1 0 1 0 0 0 0 0 1 1 0 1 1 0 1 0 1 0 1 0 1 0 1\n",
      " 0 1 0 1 1 0 1 0 0 1 1 1 0 0 0 0 1 1 1 1 1 1 0 0 0 1 1 0 1 0 0 0 1 1 0 1 1\n",
      " 0 1 1 1 1 1 0 0 0 1 0 1 1 1 0 0 1 0 1 0 1 1 0 1 1 1 1 1 1 1 0 1 0 1 0 0 1\n",
      " 0 0 1 1 1 1 1 1 1 1 1 0 1 0 1 1 1 1 1 0 1 1 1 1 1 1 0 0 1 1 1 0]\n"
     ]
    }
   ],
   "source": [
    "#get the prediction of the model on the test data\n",
    "model_prediction = model.predict(x_test)\n",
    "\n",
    "#view the model's prediction\n",
    "print(model_prediction) "
   ]
  },
  {
   "cell_type": "code",
   "execution_count": 12,
   "id": "19a60f47",
   "metadata": {},
   "outputs": [
    {
     "name": "stdout",
     "output_type": "stream",
     "text": [
      "Accuracy:\n",
      "0.965034965034965\n"
     ]
    }
   ],
   "source": [
    "#import the accuracy_score tool\n",
    "from sklearn.metrics import accuracy_score\n",
    "\n",
    "#get accuracy\n",
    "accuracy = accuracy_score(model_prediction, y_test)\n",
    "\n",
    "#show accuracy score\n",
    "print(\"Accuracy:\")\n",
    "print(accuracy)"
   ]
  }
 ],
 "metadata": {
  "kernelspec": {
   "display_name": "Python 3",
   "language": "python",
   "name": "python3"
  },
  "language_info": {
   "codemirror_mode": {
    "name": "ipython",
    "version": 3
   },
   "file_extension": ".py",
   "mimetype": "text/x-python",
   "name": "python",
   "nbconvert_exporter": "python",
   "pygments_lexer": "ipython3",
   "version": "3.8.8"
  }
 },
 "nbformat": 4,
 "nbformat_minor": 5
}
